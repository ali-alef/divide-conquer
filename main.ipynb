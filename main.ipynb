{
 "cells": [
  {
   "cell_type": "markdown",
   "source": [
    "# MERGE SORT\n",
    "Merge Sort is a recursive algorithm that continuously splits the array in half until it cannot be further divided\n",
    "the array has only one element left (an array with one element is always sorted).\n",
    "Then the sorted subarrays are merged into one sorted array.\n",
    "<br>\n",
    "<center><img src=\"statics/merge_sort.png\" alt=\"merge sort\"></center>\n",
    "\n",
    "#### TIME COMPLEXITY\n",
    "*O(N log(N))*\n",
    "<br>\n",
    "Merge Sort is a recursive algorithm and time complexity can be expressed as following recurrence relation.\n",
    "<br>\n",
    "*T(n) = 2T(n/2) + θ(n)* \n",
    "<br>\n",
    "#### Advantages of Merge Sort\n",
    "* Stability: Merge sort is a stable sorting algorithm, which means it maintains the relative order of equal elements in the input array.\n",
    "* Guaranteed worst-case performance: Merge sort has a worst-case time complexity of *O(N logN)*, which means it performs well even on large datasets.\n",
    "* Parallelizable: Merge sort is a naturally parallelizable algorithm, which means it can be easily parallelized to take advantage of multiple processors or threads.\n",
    "\n",
    "#### Drawbacks of Merge Sort\n",
    "* Space complexity: Merge sort requires additional memory to store the merged sub-arrays during the sorting process.\n",
    "* Not in-place: Merge sort is not an in-place sorting algorithm, which means it requires additional memory to store the sorted data. \n",
    "This can be a disadvantage in applications where memory usage is a concern.\n",
    "* Not always optimal for small datasets: For small datasets, Merge sort has a higher time complexity than some other sorting algorithms,\n",
    "such as insertion sort. This can result in slower performance for very small datasets.\n"
   ],
   "metadata": {
    "collapsed": false
   },
   "id": "2fee9fb13afdc5fd"
  },
  {
   "cell_type": "code",
   "execution_count": 2,
   "id": "initial_id",
   "metadata": {
    "collapsed": true,
    "ExecuteTime": {
     "end_time": "2024-01-20T20:34:12.614153219Z",
     "start_time": "2024-01-20T20:34:12.570167548Z"
    }
   },
   "outputs": [
    {
     "name": "stdout",
     "output_type": "stream",
     "text": [
      "Original array: [1, 28, 54, 6, 46, 59, 18, 92, 36, 32, 86, 47, 82, 15, 50, 50, 88, 39, 85, 99, 35, 10, 62, 95, 69, 42, 17, 13, 19, 86]\n",
      "Sorted array: [1, 6, 10, 13, 15, 17, 18, 19, 28, 32, 35, 36, 39, 42, 46, 47, 50, 50, 54, 59, 62, 69, 82, 85, 86, 86, 88, 92, 95, 99]\n"
     ]
    }
   ],
   "source": [
    "def merge_sort(array):\n",
    "    if len(array) > 1:\n",
    "        mid = len(array) // 2\n",
    "        left_half = array[:mid]\n",
    "        right_half = array[mid:]\n",
    "\n",
    "        merge_sort(left_half)\n",
    "        merge_sort(right_half)\n",
    "\n",
    "        i = j = k = 0\n",
    "\n",
    "        # Merge the two halves\n",
    "        while i < len(left_half) and j < len(right_half):\n",
    "            if left_half[i] < right_half[j]:\n",
    "                array[k] = left_half[i]\n",
    "                i += 1\n",
    "            else:\n",
    "                array[k] = right_half[j]\n",
    "                j += 1\n",
    "            k += 1\n",
    "\n",
    "        # Check for any remaining elements in the left half\n",
    "        while i < len(left_half):\n",
    "            array[k] = left_half[i]\n",
    "            i += 1\n",
    "            k += 1\n",
    "\n",
    "        # Check for any remaining elements in the right half\n",
    "        while j < len(right_half):\n",
    "            array[k] = right_half[j]\n",
    "            j += 1\n",
    "            k += 1\n",
    "\n",
    "# Example usage:\n",
    "import random\n",
    "\n",
    "random_array = [random.randint(1, 100) for _ in range(30)] # generate random array of length 30 \n",
    "print(\"Original array:\", random_array)\n",
    "\n",
    "merge_sort(random_array)\n",
    "\n",
    "print(\"Sorted array:\", random_array)"
   ]
  }
 ],
 "metadata": {
  "kernelspec": {
   "display_name": "Python 3",
   "language": "python",
   "name": "python3"
  },
  "language_info": {
   "codemirror_mode": {
    "name": "ipython",
    "version": 2
   },
   "file_extension": ".py",
   "mimetype": "text/x-python",
   "name": "python",
   "nbconvert_exporter": "python",
   "pygments_lexer": "ipython2",
   "version": "2.7.6"
  }
 },
 "nbformat": 4,
 "nbformat_minor": 5
}
