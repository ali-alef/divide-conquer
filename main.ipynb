{
 "cells": [
  {
   "cell_type": "markdown",
   "source": [
    "# MERGE SORT\n",
    "Merge Sort is a recursive algorithm that continuously splits the array in half until it cannot be further divided\n",
    "the array has only one element left (an array with one element is always sorted).\n",
    "Then the sorted subarrays are merged into one sorted array.\n",
    "<br>\n",
    "<center><img src=\"statics/merge_sort.png\" alt=\"merge sort\"></center>\n",
    "\n",
    "#### TIME COMPLEXITY\n",
    "*O(N log(N))*\n",
    "<br>\n",
    "Merge Sort is a recursive algorithm and time complexity can be expressed as following recurrence relation.\n",
    "<br>\n",
    "*T(n) = 2T(n/2) + θ(n)* \n",
    "<br>\n",
    "#### Advantages of Merge Sort\n",
    "* Stability: Merge sort is a stable sorting algorithm, which means it maintains the relative order of equal elements in the input array.\n",
    "* Guaranteed worst-case performance: Merge sort has a worst-case time complexity of *O(N logN)*, which means it performs well even on large datasets.\n",
    "* Parallelizable: Merge sort is a naturally parallelizable algorithm, which means it can be easily parallelized to take advantage of multiple processors or threads.\n",
    "\n",
    "#### Disadvantages of Merge Sort\n",
    "* Space complexity: Merge sort requires additional memory to store the merged sub-arrays during the sorting process.\n",
    "* Not in-place: Merge sort is not an in-place sorting algorithm, which means it requires additional memory to store the sorted data. \n",
    "This can be a disadvantage in applications where memory usage is a concern.\n",
    "* Not always optimal for small datasets: For small datasets, Merge sort has a higher time complexity than some other sorting algorithms,\n",
    "such as insertion sort. This can result in slower performance for very small datasets.\n"
   ],
   "metadata": {
    "collapsed": false
   },
   "id": "2fee9fb13afdc5fd"
  },
  {
   "cell_type": "code",
   "execution_count": 2,
   "id": "initial_id",
   "metadata": {
    "collapsed": true,
    "ExecuteTime": {
     "end_time": "2024-01-20T20:34:12.614153219Z",
     "start_time": "2024-01-20T20:34:12.570167548Z"
    }
   },
   "outputs": [
    {
     "name": "stdout",
     "output_type": "stream",
     "text": [
      "Original array: [1, 28, 54, 6, 46, 59, 18, 92, 36, 32, 86, 47, 82, 15, 50, 50, 88, 39, 85, 99, 35, 10, 62, 95, 69, 42, 17, 13, 19, 86]\n",
      "Sorted array: [1, 6, 10, 13, 15, 17, 18, 19, 28, 32, 35, 36, 39, 42, 46, 47, 50, 50, 54, 59, 62, 69, 82, 85, 86, 86, 88, 92, 95, 99]\n"
     ]
    }
   ],
   "source": [
    "def merge_sort(arr):\n",
    "    if len(arr) > 1:\n",
    "        mid = len(arr) // 2\n",
    "        left_half = arr[:mid]\n",
    "        right_half = arr[mid:]\n",
    "\n",
    "        merge_sort(left_half)\n",
    "        merge_sort(right_half)\n",
    "\n",
    "        i = j = k = 0\n",
    "\n",
    "        # Merge the two halves\n",
    "        while i < len(left_half) and j < len(right_half):\n",
    "            if left_half[i] < right_half[j]:\n",
    "                arr[k] = left_half[i]\n",
    "                i += 1\n",
    "            else:\n",
    "                arr[k] = right_half[j]\n",
    "                j += 1\n",
    "            k += 1\n",
    "\n",
    "        # Check for any remaining elements in the left half\n",
    "        while i < len(left_half):\n",
    "            arr[k] = left_half[i]\n",
    "            i += 1\n",
    "            k += 1\n",
    "\n",
    "        # Check for any remaining elements in the right half\n",
    "        while j < len(right_half):\n",
    "            arr[k] = right_half[j]\n",
    "            j += 1\n",
    "            k += 1\n",
    "\n",
    "# Example usage:\n",
    "import random\n",
    "\n",
    "random_array = [random.randint(1, 100) for _ in range(30)] # generate random array of length 30 \n",
    "print('Original array:', random_array)\n",
    "\n",
    "merge_sort(random_array)\n",
    "\n",
    "print('Sorted array:', random_array)\n"
   ]
  },
  {
   "cell_type": "markdown",
   "source": [
    "# QUICK SORT\n",
    "QuickSort is a sorting algorithm based on the Divide and Conquer algorithm that picks random element as a pivot and partitions \n",
    "the given array around the picked pivot by placing the pivot in its correct position in the sorted array.\n",
    "The key process in quickSort is a partition. The target of partitions is to place the pivot (any element can be chosen to be a pivot) \n",
    "at its correct position in the sorted array and put all smaller elements to the left of the pivot, and all greater elements to the right of the pivot.\n",
    "\n",
    "<br>\n",
    "<center><img src=\"statics/quick_sort.png\" alt=\"merge sort\"></center>\n",
    "\n",
    "#### Time Complexity\n",
    "* Best Case: *Ω(N log (N))*\n",
    "The best case scenario for quicksort occur when the pivot chosen at each step divides the array into roughly equal halves.\n",
    "In this case, the algorithm will make balanced partitions, leading to efficient Sorting.\n",
    "<br>\n",
    "\n",
    "* Average Case: *θ(N log (N))*\n",
    "The average case performance is usually very good in practice, making it one of the fastest sorting Algorithm.\n",
    "<br>\n",
    "\n",
    "* Worst Case: *O(N2)*\n",
    "The worst case Scenario occur when the pivot at each step consistently results in highly unbalanced partitions. \n",
    "When the array is already sorted and the pivot is always chosen as the smallest or largest element.\n",
    "**To mitigate the worst case Scenario, various techniques are used such as choosing a good pivot (e.g., median of three)\n",
    "and using Randomized algorithm (Randomized Quicksort) to shuffle the element before sorting.**\n",
    "\n",
    "#### Auxiliary Space\n",
    "*O(1)* if we don’t consider the recursive stack space. \n",
    "If we consider the recursive stack space then, in the worst case quicksort could make *O(N)*.\n",
    "\n",
    "#### Advantages of Quick Sort\n",
    "* It is a divide-and-conquer algorithm that makes it easier to solve problems.\n",
    "* It is efficient on large data sets.\n",
    "* It has a low overhead, as it only requires a small amount of memory to function.\n",
    "\n",
    "#### Disadvantages of Quick Sort\n",
    "* It has a worst-case time complexity of O(N2), which occurs when the pivot is chosen poorly.\n",
    "* It is not a good choice for small data sets.\n",
    "* It is not a stable sort, meaning that if two elements have the same key, \n",
    "their relative order will not be preserved in the sorted output in case of quick sort, \n",
    "because here we are swapping elements according to the pivot’s position (without considering their original positions).\n"
   ],
   "metadata": {
    "collapsed": false
   },
   "id": "6a8ea06e9e848de1"
  },
  {
   "cell_type": "code",
   "execution_count": 4,
   "outputs": [
    {
     "name": "stdout",
     "output_type": "stream",
     "text": [
      "Original array: [85, 80, 69, 40, 84, 31, 51, 37, 63, 11, 71, 89, 59, 17, 29, 76, 74, 94, 46, 61, 51, 51, 52, 51, 46, 81, 16, 28, 32, 96]\n",
      "Sorted array: [11, 16, 17, 28, 29, 31, 32, 37, 40, 46, 46, 51, 51, 51, 51, 52, 59, 61, 63, 69, 71, 74, 76, 80, 81, 84, 85, 89, 94, 96]\n"
     ]
    }
   ],
   "source": [
    "def partition(arr, low, high):\n",
    "    # Choose the pivot as the first element\n",
    "    # you can choose pivot randomly too!\n",
    "    pivot = arr[low]\n",
    "    left = low + 1\n",
    "    right = high\n",
    "\n",
    "    # This is linear because we see each element once  \n",
    "    while True:\n",
    "        # Find the first element from the left that is greater than the pivot\n",
    "        while left <= right and arr[left] <= pivot:\n",
    "            left += 1\n",
    "\n",
    "        # Find the first element from the right that is smaller than the pivot\n",
    "        while left <= right and arr[right] >= pivot:\n",
    "            right -= 1\n",
    "\n",
    "        # Swap the elements if there are elements to swap\n",
    "        if left <= right:\n",
    "            arr[left], arr[right] = arr[right], arr[left]\n",
    "        else:\n",
    "            break\n",
    "\n",
    "    # Swap the pivot with the element at the right pointer\n",
    "    arr[low], arr[right] = arr[right], arr[low]\n",
    "\n",
    "    return right\n",
    "\n",
    "\n",
    "def quick_sort(arr, low, high):\n",
    "    if low < high:\n",
    "        # Find the partition index\n",
    "        partition_index = partition(arr, low, high)\n",
    "\n",
    "        # Recursively sort the sub-arrays\n",
    "        quick_sort(arr, low, partition_index - 1)\n",
    "        quick_sort(arr, partition_index + 1, high)\n",
    "\n",
    "# Example usage:\n",
    "import random\n",
    "\n",
    "N = 30\n",
    "random_array = [random.randint(1, 100) for _ in range(N)] # generate random array of length N \n",
    "print('Original array:', random_array)\n",
    "\n",
    "quick_sort(random_array, 0, N - 1)\n",
    "\n",
    "print('Sorted array:', random_array)\n"
   ],
   "metadata": {
    "collapsed": false,
    "ExecuteTime": {
     "end_time": "2024-01-20T21:18:53.529890837Z",
     "start_time": "2024-01-20T21:18:53.482979419Z"
    }
   },
   "id": "fe6ede01a83ade1b"
  },
  {
   "cell_type": "markdown",
   "source": [
    "# <center>COMPARE TWO SORT ALGORITHM IN LARGE ARRAYS</center>\n",
    "\n",
    "while both algorithms have the same average time complexity, \n",
    "Merge Sort has a more consistent performance across different cases, making it a better choice in situations where worst-case performance is crucial.\n",
    "Quick Sort, on the other hand, can be faster in practice due to its in-place nature and cache-friendly behavior, but it requires careful pivot selection \n",
    "to avoid worst-case scenarios."
   ],
   "metadata": {
    "collapsed": false
   },
   "id": "1432ab3a9b8f8b5"
  },
  {
   "cell_type": "code",
   "execution_count": 12,
   "outputs": [
    {
     "name": "stdout",
     "output_type": "stream",
     "text": [
      "attempt 0 finished\n",
      "attempt 1 finished\n",
      "attempt 2 finished\n",
      "attempt 3 finished\n",
      "attempt 4 finished\n",
      "attempt 5 finished\n",
      "attempt 6 finished\n",
      "attempt 7 finished\n",
      "attempt 8 finished\n",
      "attempt 9 finished\n",
      "attempt 10 finished\n",
      "attempt 11 finished\n",
      "attempt 12 finished\n",
      "attempt 13 finished\n",
      "attempt 14 finished\n",
      "attempt 15 finished\n",
      "attempt 16 finished\n",
      "attempt 17 finished\n",
      "attempt 18 finished\n",
      "attempt 19 finished\n",
      "attempt 20 finished\n",
      "attempt 21 finished\n",
      "attempt 22 finished\n",
      "attempt 23 finished\n",
      "attempt 24 finished\n",
      "attempt 25 finished\n",
      "attempt 26 finished\n",
      "attempt 27 finished\n",
      "attempt 28 finished\n",
      "attempt 29 finished\n",
      "average merge sort run time: 0.0021\n",
      "average quick sort run time: 0.0037\n"
     ]
    }
   ],
   "source": [
    "import time\n",
    "\n",
    "avg_merge_sort_cost = 0\n",
    "avg_quick_sort_cost = 0\n",
    "\n",
    "N = int(1e3)\n",
    "TEST_ATTEMPTS = 30\n",
    "\n",
    "for i in range(TEST_ATTEMPTS):\n",
    "    random_array = [random.randint(1, 100) for _ in range(N)]\n",
    "    start_time = time.time()\n",
    "    merge_sort(random_array)\n",
    "    end_time = time.time()\n",
    "    runtime = end_time - start_time\n",
    "    \n",
    "    avg_merge_sort_cost += runtime\n",
    "    \n",
    "    start_time = time.time()\n",
    "    quick_sort(random_array, 0, N - 1)\n",
    "    end_time = time.time()\n",
    "    runtime = end_time - start_time\n",
    "    \n",
    "    avg_quick_sort_cost += runtime\n",
    "    \n",
    "    print(f'attempt {i} finished')\n",
    "\n",
    "print(f'average merge sort run time: {avg_merge_sort_cost / TEST_ATTEMPTS:.4f}')\n",
    "print(f'average quick sort run time: {avg_quick_sort_cost / TEST_ATTEMPTS:.4f}')\n"
   ],
   "metadata": {
    "collapsed": false,
    "ExecuteTime": {
     "end_time": "2024-01-20T21:35:56.911683004Z",
     "start_time": "2024-01-20T21:35:56.677236846Z"
    }
   },
   "id": "e903985c5ac6fdd2"
  },
  {
   "cell_type": "markdown",
   "source": [
    "# BINARY SEARCH\n",
    "\n",
    "Binary Search is defined as a searching algorithm used in a sorted array by repeatedly dividing the search interval in half. \n",
    "The idea of binary search is to use the information that the array is sorted. \n",
    "\n",
    "<br>\n",
    "<center><img src=\"statics/binary_search.png\" alt=\"merge sort\"></center>\n",
    "\n",
    "#### Time Complexity\n",
    "* Best Case: *O(1)*\n",
    "The best case scenario for binary search occur when the mid chosen number is target number.\n",
    "<br>\n",
    "\n",
    "* Average Case: *O(log N)*\n",
    "<br>\n",
    "\n",
    "* Worst Case: *O(log N)*\n",
    "The worst case Scenario occur when we need to check every middel number we choose.\n",
    " \n",
    "\n",
    "#### Advantages of Binary Search\n",
    "* Binary search is faster than linear search, especially for large arrays.\n",
    "* More efficient than other searching algorithms with a similar time complexity, such as interpolation search or exponential search.\n",
    "* Binary search is well-suited for searching large datasets that are stored in external memory, such as on a hard drive or in the cloud.\n",
    "\n",
    "#### Disadvantages of Binary Search\n",
    "* The array should be sorted.\n",
    "* Binary search requires that the data structure being searched be stored in contiguous memory locations. \n",
    "* Binary search requires that the elements of the array be comparable, meaning that they must be able to be ordered.\n"
   ],
   "metadata": {
    "collapsed": false
   },
   "id": "fdd127dd1e26eb90"
  },
  {
   "cell_type": "code",
   "execution_count": 35,
   "outputs": [
    {
     "name": "stdout",
     "output_type": "stream",
     "text": [
      "Original array: [1, 2, 3, 5, 5, 5, 6, 6, 7, 9, 10, 17, 18, 19, 22, 26, 27, 28, 29, 31, 31, 33, 34, 35, 37, 38, 39, 40, 41, 43, 44, 45, 45, 46, 46, 46, 49, 51, 52, 52, 57, 57, 58, 59, 63, 63, 63, 65, 65, 65, 68, 68, 70, 71, 72, 75, 79, 80, 81, 82, 82, 85, 86, 88, 90, 90, 90, 91, 92, 93, 94, 94, 94, 94, 96, 99, 99, 100, 100, 100]\n",
      "Element 52 is present at index 39\n"
     ]
    }
   ],
   "source": [
    "def binary_search(arr, left, right, target): \n",
    "    # Check base case\n",
    "    if right >= left:\n",
    "        mid = left + (right - left) // 2\n",
    "\n",
    "        # If element is present at the middle itself\n",
    "        if arr[mid] == target:\n",
    "            return mid\n",
    " \n",
    "        # If element is smaller than mid, then it\n",
    "        # can only be present in left subarray        \n",
    "        elif arr[mid] > target:\n",
    "            return binary_search(arr, left, mid - 1, target)\n",
    " \n",
    "        # Else the element can only be present\n",
    "        # in right subarray\n",
    "        else:\n",
    "            return binary_search(arr, mid + 1, right, target)\n",
    " \n",
    "    # Element is not present in the array\n",
    "    else:\n",
    "        return -1\n",
    "\n",
    "\n",
    "# Example usage:\n",
    "import random\n",
    "\n",
    "random_array = [random.randint(1, 100) for _ in range(80)] # generate random array of length 80\n",
    "random_array.sort() # sort array for binary search\n",
    "target = random.randint(1, 100)\n",
    "print('Original array:', random_array)\n",
    "index = binary_search(random_array, 0, len(random_array) - 1, target)\n",
    "\n",
    "if index != -1:\n",
    "    print(f'Element {target} is present at index {index}')\n",
    "else:\n",
    "    print(f'Element {target} is not present in array')"
   ],
   "metadata": {
    "collapsed": false,
    "ExecuteTime": {
     "end_time": "2024-01-20T21:53:38.677704945Z",
     "start_time": "2024-01-20T21:53:38.637330071Z"
    }
   },
   "id": "2fb5d65e92038991"
  }
 ],
 "metadata": {
  "kernelspec": {
   "display_name": "Python 3",
   "language": "python",
   "name": "python3"
  },
  "language_info": {
   "codemirror_mode": {
    "name": "ipython",
    "version": 2
   },
   "file_extension": ".py",
   "mimetype": "text/x-python",
   "name": "python",
   "nbconvert_exporter": "python",
   "pygments_lexer": "ipython2",
   "version": "2.7.6"
  }
 },
 "nbformat": 4,
 "nbformat_minor": 5
}
